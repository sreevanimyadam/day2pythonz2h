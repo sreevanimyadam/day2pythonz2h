{
  "nbformat": 4,
  "nbformat_minor": 0,
  "metadata": {
    "colab": {
      "name": "Day2pythonzth.ipynb",
      "provenance": [],
      "authorship_tag": "ABX9TyO0xc76Mv843sUKkks1H8G2",
      "include_colab_link": true
    },
    "kernelspec": {
      "name": "python3",
      "display_name": "Python 3"
    },
    "language_info": {
      "name": "python"
    }
  },
  "cells": [
    {
      "cell_type": "markdown",
      "metadata": {
        "id": "view-in-github",
        "colab_type": "text"
      },
      "source": [
        "<a href=\"https://colab.research.google.com/github/sreevanimyadam/day2pythonz2h/blob/main/Day2pythonzth.ipynb\" target=\"_parent\"><img src=\"https://colab.research.google.com/assets/colab-badge.svg\" alt=\"Open In Colab\"/></a>"
      ]
    },
    {
      "cell_type": "code",
      "metadata": {
        "colab": {
          "base_uri": "https://localhost:8080/"
        },
        "id": "Z6utcvDZAGsd",
        "outputId": "a02935df-0b99-4564-9ef2-73868452a5b0"
      },
      "source": [
        "#deleting all occurences of an elment in a list\n",
        " \n",
        " \n",
        "C=[int(i) for i in input('enter elements of the list').split()]\n",
        "r=int(input('enter the element to be deleted'))\n",
        "n=C.count(r)\n",
        "for v in range(0,n):\n",
        "   C.remove(r)\n",
        "print('list after deleting ',r,': ',C)"
      ],
      "execution_count": null,
      "outputs": [
        {
          "output_type": "stream",
          "text": [
            "enter elements of the list10 20 10 30\n",
            "enter the element to be deleted10\n",
            "list after deleting  10 :  [20, 30]\n"
          ],
          "name": "stdout"
        }
      ]
    },
    {
      "cell_type": "code",
      "metadata": {
        "colab": {
          "base_uri": "https://localhost:8080/"
        },
        "id": "qs7UjkNzB5EG",
        "outputId": "d0b6db3f-4989-48e6-9c06-fa14705847a3"
      },
      "source": [
        "#checking whether a string is pangram\n",
        "import string\n",
        "def check(str):\n",
        "   range = \"abcdefghijklmnopqrstuvwxyz\"\n",
        "   for char in range:\n",
        "      if char not in str.lower():\n",
        "         return False\n",
        "   return True\n",
        " \n",
        "s = input('enter string :')\n",
        "if(check(s) == True):\n",
        "   print(\"the string is a pangram\")\n",
        "else:\n",
        "   print(\"the string is not a pangram\")"
      ],
      "execution_count": null,
      "outputs": [
        {
          "output_type": "stream",
          "text": [
            "enter string :abcdefghijklmnopqrstuvwxyz\n",
            "the string is a pangram\n"
          ],
          "name": "stdout"
        }
      ]
    },
    {
      "cell_type": "code",
      "metadata": {
        "id": "fGS6NhITLLRv",
        "colab": {
          "base_uri": "https://localhost:8080/"
        },
        "outputId": "bed1c3fc-7c1c-47cc-b621-ad4757bd2952"
      },
      "source": [
        "#project to generate otp\n",
        "import random as r\n",
        "import string\n",
        "length = 6\n",
        "otp = ''\n",
        "characters=string.ascii_letters + string.digits\n",
        "for i in range (length):\n",
        "    otp= otp + r.choice(characters)\n",
        "print('Otp: ',otp)"
      ],
      "execution_count": null,
      "outputs": [
        {
          "output_type": "stream",
          "text": [
            "Otp:  lVZUqN\n"
          ],
          "name": "stdout"
        }
      ]
    },
    {
      "cell_type": "code",
      "metadata": {
        "colab": {
          "base_uri": "https://localhost:8080/"
        },
        "id": "2wQWL4TqNYy9",
        "outputId": "f01f232b-e73b-414a-a6ee-0027889c4db2"
      },
      "source": [
        ""
      ],
      "execution_count": null,
      "outputs": [
        {
          "output_type": "stream",
          "text": [
            "stringThequickbrownfoxjumpsoverthelazydog\n",
            "Yes\n"
          ],
          "name": "stdout"
        }
      ]
    }
  ]
}